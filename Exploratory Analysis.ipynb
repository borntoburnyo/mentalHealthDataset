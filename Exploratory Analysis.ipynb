import pandas as pd 
import numpy as np
import matplotlib.pyplot as plt 
import matplotlib as mpl
from uszipcode import ZipcodeSearchEngine
import folium
from folium import plugins
from folium.plugins import HeatMap
