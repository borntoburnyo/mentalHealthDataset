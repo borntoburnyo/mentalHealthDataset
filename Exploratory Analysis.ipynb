import numpy as np
import matplotlib.pyplot as plt 
import matplotlib as mpl 
import pandas as pd 

path = '/Users/jiangtao/Documents/Application/gandaraCenter_20180810/'
#patient characteristics survey data 
pcs = pd.read_csv(path + 'survey_2017.csv')

pcs.info()

